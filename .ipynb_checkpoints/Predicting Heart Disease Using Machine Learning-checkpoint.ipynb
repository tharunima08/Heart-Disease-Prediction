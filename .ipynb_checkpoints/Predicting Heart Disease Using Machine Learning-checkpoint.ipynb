{
 "cells": [
  {
   "cell_type": "markdown",
   "id": "30421741",
   "metadata": {},
   "source": [
    "# Heart Disease Prediction Using Machine Learning"
   ]
  },
  {
   "cell_type": "markdown",
   "id": "bfcf1136",
   "metadata": {},
   "source": [
    "### Steps\n",
    "1. Data gathering\n",
    "2. Data preperation\n",
    "3. Data Preprocessing\n",
    "4. Data Transformation\n",
    "5. Model Building\n",
    "6. Model Evaluation"
   ]
  },
  {
   "cell_type": "code",
   "execution_count": 70,
   "id": "1515dbbb",
   "metadata": {},
   "outputs": [],
   "source": [
    "# Importing Libraries Which are required for our Project.\n",
    "\n",
    "import pandas as pd \n",
    "import numpy as np \n",
    "import matplotlib.pyplot as plt\n",
    "import seaborn as sns\n",
    "\n",
    "import sklearn\n",
    "from sklearn import tree\n",
    "from sklearn import metrics\n",
    "from sklearn.model_selection import train_test_split\n",
    "from sklearn.metrics import confusion_matrix\n",
    "from sklearn.metrics import accuracy_score\n",
    "from sklearn.metrics import classification_report\n",
    "from sklearn.preprocessing import StandardScaler\n",
    "\n",
    "from matplotlib.cm import rainbow\n",
    "%matplotlib inline\n",
    "import warnings\n",
    "warnings.filterwarnings('ignore')\n",
    "from matplotlib import rcParams\n",
    "from sklearn.linear_model import LogisticRegression\n",
    "from sklearn.ensemble import RandomForestClassifier\n",
    "from sklearn.svm import SVC\n",
    "from sklearn.tree import DecisionTreeClassifier"
   ]
  },
  {
   "cell_type": "markdown",
   "id": "ba56ba94",
   "metadata": {},
   "source": [
    "### Data Preperation"
   ]
  },
  {
   "cell_type": "code",
   "execution_count": 71,
   "id": "4449ce91",
   "metadata": {},
   "outputs": [
    {
     "name": "stdout",
     "output_type": "stream",
     "text": [
      "<class 'pandas.core.frame.DataFrame'>\n",
      "RangeIndex: 303 entries, 0 to 302\n",
      "Data columns (total 14 columns):\n",
      " #   Column               Non-Null Count  Dtype  \n",
      "---  ------               --------------  -----  \n",
      " 0   age                  303 non-null    int64  \n",
      " 1   gender               303 non-null    int64  \n",
      " 2   chest_pain           303 non-null    int64  \n",
      " 3   rest_bps             303 non-null    int64  \n",
      " 4   cholestrol           303 non-null    int64  \n",
      " 5   fasting_blood_sugar  303 non-null    int64  \n",
      " 6   rest_ecg             303 non-null    int64  \n",
      " 7   thalach              303 non-null    int64  \n",
      " 8   exer_angina          303 non-null    int64  \n",
      " 9   old_peak             303 non-null    float64\n",
      " 10  slope                303 non-null    int64  \n",
      " 11  ca                   303 non-null    int64  \n",
      " 12  thalassemia          303 non-null    int64  \n",
      " 13  target               303 non-null    int64  \n",
      "dtypes: float64(1), int64(13)\n",
      "memory usage: 33.3 KB\n"
     ]
    }
   ],
   "source": [
    "df = pd.read_csv('HeartDisease.csv')\n",
    "df.info()"
   ]
  },
  {
   "cell_type": "code",
   "execution_count": 72,
   "id": "de5ae2d5",
   "metadata": {},
   "outputs": [
    {
     "data": {
      "text/html": [
       "<div>\n",
       "<style scoped>\n",
       "    .dataframe tbody tr th:only-of-type {\n",
       "        vertical-align: middle;\n",
       "    }\n",
       "\n",
       "    .dataframe tbody tr th {\n",
       "        vertical-align: top;\n",
       "    }\n",
       "\n",
       "    .dataframe thead th {\n",
       "        text-align: right;\n",
       "    }\n",
       "</style>\n",
       "<table border=\"1\" class=\"dataframe\">\n",
       "  <thead>\n",
       "    <tr style=\"text-align: right;\">\n",
       "      <th></th>\n",
       "      <th>age</th>\n",
       "      <th>gender</th>\n",
       "      <th>chest_pain</th>\n",
       "      <th>rest_bps</th>\n",
       "      <th>cholestrol</th>\n",
       "      <th>fasting_blood_sugar</th>\n",
       "      <th>rest_ecg</th>\n",
       "      <th>thalach</th>\n",
       "      <th>exer_angina</th>\n",
       "      <th>old_peak</th>\n",
       "      <th>slope</th>\n",
       "      <th>ca</th>\n",
       "      <th>thalassemia</th>\n",
       "      <th>target</th>\n",
       "    </tr>\n",
       "  </thead>\n",
       "  <tbody>\n",
       "    <tr>\n",
       "      <th>298</th>\n",
       "      <td>57</td>\n",
       "      <td>0</td>\n",
       "      <td>0</td>\n",
       "      <td>140</td>\n",
       "      <td>241</td>\n",
       "      <td>0</td>\n",
       "      <td>1</td>\n",
       "      <td>123</td>\n",
       "      <td>1</td>\n",
       "      <td>0.20</td>\n",
       "      <td>1</td>\n",
       "      <td>0</td>\n",
       "      <td>3</td>\n",
       "      <td>0</td>\n",
       "    </tr>\n",
       "    <tr>\n",
       "      <th>299</th>\n",
       "      <td>45</td>\n",
       "      <td>1</td>\n",
       "      <td>3</td>\n",
       "      <td>110</td>\n",
       "      <td>264</td>\n",
       "      <td>0</td>\n",
       "      <td>1</td>\n",
       "      <td>132</td>\n",
       "      <td>0</td>\n",
       "      <td>1.20</td>\n",
       "      <td>1</td>\n",
       "      <td>0</td>\n",
       "      <td>3</td>\n",
       "      <td>0</td>\n",
       "    </tr>\n",
       "    <tr>\n",
       "      <th>300</th>\n",
       "      <td>68</td>\n",
       "      <td>1</td>\n",
       "      <td>0</td>\n",
       "      <td>144</td>\n",
       "      <td>193</td>\n",
       "      <td>1</td>\n",
       "      <td>1</td>\n",
       "      <td>141</td>\n",
       "      <td>0</td>\n",
       "      <td>3.40</td>\n",
       "      <td>1</td>\n",
       "      <td>2</td>\n",
       "      <td>3</td>\n",
       "      <td>0</td>\n",
       "    </tr>\n",
       "    <tr>\n",
       "      <th>301</th>\n",
       "      <td>57</td>\n",
       "      <td>1</td>\n",
       "      <td>0</td>\n",
       "      <td>130</td>\n",
       "      <td>131</td>\n",
       "      <td>0</td>\n",
       "      <td>1</td>\n",
       "      <td>115</td>\n",
       "      <td>1</td>\n",
       "      <td>1.20</td>\n",
       "      <td>1</td>\n",
       "      <td>1</td>\n",
       "      <td>3</td>\n",
       "      <td>0</td>\n",
       "    </tr>\n",
       "    <tr>\n",
       "      <th>302</th>\n",
       "      <td>57</td>\n",
       "      <td>0</td>\n",
       "      <td>1</td>\n",
       "      <td>130</td>\n",
       "      <td>236</td>\n",
       "      <td>0</td>\n",
       "      <td>0</td>\n",
       "      <td>174</td>\n",
       "      <td>0</td>\n",
       "      <td>0.00</td>\n",
       "      <td>1</td>\n",
       "      <td>1</td>\n",
       "      <td>2</td>\n",
       "      <td>0</td>\n",
       "    </tr>\n",
       "  </tbody>\n",
       "</table>\n",
       "</div>"
      ],
      "text/plain": [
       "     age  gender  chest_pain  rest_bps  cholestrol  fasting_blood_sugar  \\\n",
       "298   57       0           0       140         241                    0   \n",
       "299   45       1           3       110         264                    0   \n",
       "300   68       1           0       144         193                    1   \n",
       "301   57       1           0       130         131                    0   \n",
       "302   57       0           1       130         236                    0   \n",
       "\n",
       "     rest_ecg  thalach  exer_angina  old_peak  slope  ca  thalassemia  target  \n",
       "298         1      123            1      0.20      1   0            3       0  \n",
       "299         1      132            0      1.20      1   0            3       0  \n",
       "300         1      141            0      3.40      1   2            3       0  \n",
       "301         1      115            1      1.20      1   1            3       0  \n",
       "302         0      174            0      0.00      1   1            2       0  "
      ]
     },
     "execution_count": 72,
     "metadata": {},
     "output_type": "execute_result"
    }
   ],
   "source": [
    "df.tail()"
   ]
  },
  {
   "cell_type": "code",
   "execution_count": 73,
   "id": "c084682c",
   "metadata": {},
   "outputs": [
    {
     "data": {
      "text/html": [
       "<div>\n",
       "<style scoped>\n",
       "    .dataframe tbody tr th:only-of-type {\n",
       "        vertical-align: middle;\n",
       "    }\n",
       "\n",
       "    .dataframe tbody tr th {\n",
       "        vertical-align: top;\n",
       "    }\n",
       "\n",
       "    .dataframe thead th {\n",
       "        text-align: right;\n",
       "    }\n",
       "</style>\n",
       "<table border=\"1\" class=\"dataframe\">\n",
       "  <thead>\n",
       "    <tr style=\"text-align: right;\">\n",
       "      <th></th>\n",
       "      <th>age</th>\n",
       "      <th>gender</th>\n",
       "      <th>chest_pain</th>\n",
       "      <th>rest_bps</th>\n",
       "      <th>cholestrol</th>\n",
       "      <th>fasting_blood_sugar</th>\n",
       "      <th>rest_ecg</th>\n",
       "      <th>thalach</th>\n",
       "      <th>exer_angina</th>\n",
       "      <th>old_peak</th>\n",
       "      <th>slope</th>\n",
       "      <th>ca</th>\n",
       "      <th>thalassemia</th>\n",
       "      <th>target</th>\n",
       "    </tr>\n",
       "  </thead>\n",
       "  <tbody>\n",
       "    <tr>\n",
       "      <th>count</th>\n",
       "      <td>303.00</td>\n",
       "      <td>303.00</td>\n",
       "      <td>303.00</td>\n",
       "      <td>303.00</td>\n",
       "      <td>303.00</td>\n",
       "      <td>303.00</td>\n",
       "      <td>303.00</td>\n",
       "      <td>303.00</td>\n",
       "      <td>303.00</td>\n",
       "      <td>303.00</td>\n",
       "      <td>303.00</td>\n",
       "      <td>303.00</td>\n",
       "      <td>303.00</td>\n",
       "      <td>303.00</td>\n",
       "    </tr>\n",
       "    <tr>\n",
       "      <th>mean</th>\n",
       "      <td>54.37</td>\n",
       "      <td>0.68</td>\n",
       "      <td>0.97</td>\n",
       "      <td>131.62</td>\n",
       "      <td>246.26</td>\n",
       "      <td>0.15</td>\n",
       "      <td>0.53</td>\n",
       "      <td>149.65</td>\n",
       "      <td>0.33</td>\n",
       "      <td>1.04</td>\n",
       "      <td>1.40</td>\n",
       "      <td>0.73</td>\n",
       "      <td>2.31</td>\n",
       "      <td>0.54</td>\n",
       "    </tr>\n",
       "    <tr>\n",
       "      <th>std</th>\n",
       "      <td>9.08</td>\n",
       "      <td>0.47</td>\n",
       "      <td>1.03</td>\n",
       "      <td>17.54</td>\n",
       "      <td>51.83</td>\n",
       "      <td>0.36</td>\n",
       "      <td>0.53</td>\n",
       "      <td>22.91</td>\n",
       "      <td>0.47</td>\n",
       "      <td>1.16</td>\n",
       "      <td>0.62</td>\n",
       "      <td>1.02</td>\n",
       "      <td>0.61</td>\n",
       "      <td>0.50</td>\n",
       "    </tr>\n",
       "    <tr>\n",
       "      <th>min</th>\n",
       "      <td>29.00</td>\n",
       "      <td>0.00</td>\n",
       "      <td>0.00</td>\n",
       "      <td>94.00</td>\n",
       "      <td>126.00</td>\n",
       "      <td>0.00</td>\n",
       "      <td>0.00</td>\n",
       "      <td>71.00</td>\n",
       "      <td>0.00</td>\n",
       "      <td>0.00</td>\n",
       "      <td>0.00</td>\n",
       "      <td>0.00</td>\n",
       "      <td>0.00</td>\n",
       "      <td>0.00</td>\n",
       "    </tr>\n",
       "    <tr>\n",
       "      <th>25%</th>\n",
       "      <td>47.50</td>\n",
       "      <td>0.00</td>\n",
       "      <td>0.00</td>\n",
       "      <td>120.00</td>\n",
       "      <td>211.00</td>\n",
       "      <td>0.00</td>\n",
       "      <td>0.00</td>\n",
       "      <td>133.50</td>\n",
       "      <td>0.00</td>\n",
       "      <td>0.00</td>\n",
       "      <td>1.00</td>\n",
       "      <td>0.00</td>\n",
       "      <td>2.00</td>\n",
       "      <td>0.00</td>\n",
       "    </tr>\n",
       "    <tr>\n",
       "      <th>50%</th>\n",
       "      <td>55.00</td>\n",
       "      <td>1.00</td>\n",
       "      <td>1.00</td>\n",
       "      <td>130.00</td>\n",
       "      <td>240.00</td>\n",
       "      <td>0.00</td>\n",
       "      <td>1.00</td>\n",
       "      <td>153.00</td>\n",
       "      <td>0.00</td>\n",
       "      <td>0.80</td>\n",
       "      <td>1.00</td>\n",
       "      <td>0.00</td>\n",
       "      <td>2.00</td>\n",
       "      <td>1.00</td>\n",
       "    </tr>\n",
       "    <tr>\n",
       "      <th>75%</th>\n",
       "      <td>61.00</td>\n",
       "      <td>1.00</td>\n",
       "      <td>2.00</td>\n",
       "      <td>140.00</td>\n",
       "      <td>274.50</td>\n",
       "      <td>0.00</td>\n",
       "      <td>1.00</td>\n",
       "      <td>166.00</td>\n",
       "      <td>1.00</td>\n",
       "      <td>1.60</td>\n",
       "      <td>2.00</td>\n",
       "      <td>1.00</td>\n",
       "      <td>3.00</td>\n",
       "      <td>1.00</td>\n",
       "    </tr>\n",
       "    <tr>\n",
       "      <th>max</th>\n",
       "      <td>77.00</td>\n",
       "      <td>1.00</td>\n",
       "      <td>3.00</td>\n",
       "      <td>200.00</td>\n",
       "      <td>564.00</td>\n",
       "      <td>1.00</td>\n",
       "      <td>2.00</td>\n",
       "      <td>202.00</td>\n",
       "      <td>1.00</td>\n",
       "      <td>6.20</td>\n",
       "      <td>2.00</td>\n",
       "      <td>4.00</td>\n",
       "      <td>3.00</td>\n",
       "      <td>1.00</td>\n",
       "    </tr>\n",
       "  </tbody>\n",
       "</table>\n",
       "</div>"
      ],
      "text/plain": [
       "         age  gender  chest_pain  rest_bps  cholestrol  fasting_blood_sugar  \\\n",
       "count 303.00  303.00      303.00    303.00      303.00               303.00   \n",
       "mean   54.37    0.68        0.97    131.62      246.26                 0.15   \n",
       "std     9.08    0.47        1.03     17.54       51.83                 0.36   \n",
       "min    29.00    0.00        0.00     94.00      126.00                 0.00   \n",
       "25%    47.50    0.00        0.00    120.00      211.00                 0.00   \n",
       "50%    55.00    1.00        1.00    130.00      240.00                 0.00   \n",
       "75%    61.00    1.00        2.00    140.00      274.50                 0.00   \n",
       "max    77.00    1.00        3.00    200.00      564.00                 1.00   \n",
       "\n",
       "       rest_ecg  thalach  exer_angina  old_peak  slope     ca  thalassemia  \\\n",
       "count    303.00   303.00       303.00    303.00 303.00 303.00       303.00   \n",
       "mean       0.53   149.65         0.33      1.04   1.40   0.73         2.31   \n",
       "std        0.53    22.91         0.47      1.16   0.62   1.02         0.61   \n",
       "min        0.00    71.00         0.00      0.00   0.00   0.00         0.00   \n",
       "25%        0.00   133.50         0.00      0.00   1.00   0.00         2.00   \n",
       "50%        1.00   153.00         0.00      0.80   1.00   0.00         2.00   \n",
       "75%        1.00   166.00         1.00      1.60   2.00   1.00         3.00   \n",
       "max        2.00   202.00         1.00      6.20   2.00   4.00         3.00   \n",
       "\n",
       "       target  \n",
       "count  303.00  \n",
       "mean     0.54  \n",
       "std      0.50  \n",
       "min      0.00  \n",
       "25%      0.00  \n",
       "50%      1.00  \n",
       "75%      1.00  \n",
       "max      1.00  "
      ]
     },
     "execution_count": 73,
     "metadata": {},
     "output_type": "execute_result"
    }
   ],
   "source": [
    "pd.set_option(\"display.float\", \"{:.2f}\".format)\n",
    "df.describe()"
   ]
  },
  {
   "cell_type": "code",
   "execution_count": 74,
   "id": "dba623a8",
   "metadata": {},
   "outputs": [
    {
     "name": "stdout",
     "output_type": "stream",
     "text": [
      "<class 'pandas.core.frame.DataFrame'>\n",
      "RangeIndex: 303 entries, 0 to 302\n",
      "Data columns (total 14 columns):\n",
      " #   Column               Non-Null Count  Dtype  \n",
      "---  ------               --------------  -----  \n",
      " 0   age                  303 non-null    int64  \n",
      " 1   gender               303 non-null    int64  \n",
      " 2   chest_pain           303 non-null    int64  \n",
      " 3   rest_bps             303 non-null    int64  \n",
      " 4   cholestrol           303 non-null    int64  \n",
      " 5   fasting_blood_sugar  303 non-null    int64  \n",
      " 6   rest_ecg             303 non-null    int64  \n",
      " 7   thalach              303 non-null    int64  \n",
      " 8   exer_angina          303 non-null    int64  \n",
      " 9   old_peak             303 non-null    float64\n",
      " 10  slope                303 non-null    int64  \n",
      " 11  ca                   303 non-null    int64  \n",
      " 12  thalassemia          303 non-null    int64  \n",
      " 13  target               303 non-null    int64  \n",
      "dtypes: float64(1), int64(13)\n",
      "memory usage: 33.3 KB\n"
     ]
    }
   ],
   "source": [
    "df.info()"
   ]
  },
  {
   "cell_type": "markdown",
   "id": "f0d5ccad",
   "metadata": {},
   "source": [
    "### Data Exploration"
   ]
  },
  {
   "cell_type": "code",
   "execution_count": 75,
   "id": "be85242c",
   "metadata": {},
   "outputs": [
    {
     "data": {
      "text/plain": [
       "Text(0.5, 1.0, 'Histogram of Patient has heart disease')"
      ]
     },
     "execution_count": 75,
     "metadata": {},
     "output_type": "execute_result"
    },
    {
     "data": {
      "image/png": "[encoded data removed]",
      "text/plain": [
       "<Figure size 432x288 with 1 Axes>"
      ]
     },
     "metadata": {
      "needs_background": "light"
     },
     "output_type": "display_data"
    }
   ],
   "source": [
    "df.target.value_counts().plot(kind=\"bar\", color=[\"salmon\", \"lightblue\"])\n",
    "plt.xlabel('Patient has heart disease')\n",
    "plt.ylabel('counts')\n",
    "plt.title('Histogram of Patient has heart disease') "
   ]
  },
  {
   "cell_type": "code",
   "execution_count": 76,
   "id": "9eccef36",
   "metadata": {},
   "outputs": [
    {
     "data": {
      "text/plain": [
       "age                    0\n",
       "gender                 0\n",
       "chest_pain             0\n",
       "rest_bps               0\n",
       "cholestrol             0\n",
       "fasting_blood_sugar    0\n",
       "rest_ecg               0\n",
       "thalach                0\n",
       "exer_angina            0\n",
       "old_peak               0\n",
       "slope                  0\n",
       "ca                     0\n",
       "thalassemia            0\n",
       "target                 0\n",
       "dtype: int64"
      ]
     },
     "execution_count": 76,
     "metadata": {},
     "output_type": "execute_result"
    }
   ],
   "source": [
    "# Checking whether there are any null values or not.\n",
    "\n",
    "df.isna().sum()"
   ]
  },
  {
   "cell_type": "code",
   "execution_count": 77,
   "id": "a941095f",
   "metadata": {},
   "outputs": [
    {
     "name": "stdout",
     "output_type": "stream",
     "text": [
      "==============================\n",
      "age : [63 37 41 56 57 44 52 54 48 49 64 58 50 66 43 69 59 42 61 40 71 51 65 53\n",
      " 46 45 39 47 62 34 35 29 55 60 67 68 74 76 70 38 77]\n",
      "==============================\n",
      "gender : [1 0]\n",
      "==============================\n",
      "chest_pain : [3 2 1 0]\n",
      "==============================\n",
      "rest_bps : [145 130 120 140 172 150 110 135 160 105 125 142 155 104 138 128 108 134\n",
      " 122 115 118 100 124  94 112 102 152 101 132 148 178 129 180 136 126 106\n",
      " 156 170 146 117 200 165 174 192 144 123 154 114 164]\n",
      "==============================\n",
      "cholestrol : [233 250 204 236 354 192 294 263 199 168 239 275 266 211 283 219 340 226\n",
      " 247 234 243 302 212 175 417 197 198 177 273 213 304 232 269 360 308 245\n",
      " 208 264 321 325 235 257 216 256 231 141 252 201 222 260 182 303 265 309\n",
      " 186 203 183 220 209 258 227 261 221 205 240 318 298 564 277 214 248 255\n",
      " 207 223 288 160 394 315 246 244 270 195 196 254 126 313 262 215 193 271\n",
      " 268 267 210 295 306 178 242 180 228 149 278 253 342 157 286 229 284 224\n",
      " 206 167 230 335 276 353 225 330 290 172 305 188 282 185 326 274 164 307\n",
      " 249 341 407 217 174 281 289 322 299 300 293 184 409 259 200 327 237 218\n",
      " 319 166 311 169 187 176 241 131]\n",
      "==============================\n",
      "fasting_blood_sugar : [1 0]\n",
      "==============================\n",
      "rest_ecg : [0 1 2]\n",
      "==============================\n",
      "thalach : [150 187 172 178 163 148 153 173 162 174 160 139 171 144 158 114 151 161\n",
      " 179 137 157 123 152 168 140 188 125 170 165 142 180 143 182 156 115 149\n",
      " 146 175 186 185 159 130 190 132 147 154 202 166 164 184 122 169 138 111\n",
      " 145 194 131 133 155 167 192 121  96 126 105 181 116 108 129 120 112 128\n",
      " 109 113  99 177 141 136  97 127 103 124  88 195 106  95 117  71 118 134\n",
      "  90]\n",
      "==============================\n",
      "exer_angina : [0 1]\n",
      "==============================\n",
      "old_peak : [2.3 3.5 1.4 0.8 0.6 0.4 1.3 0.  0.5 1.6 1.2 0.2 1.8 1.  2.6 1.5 3.  2.4\n",
      " 0.1 1.9 4.2 1.1 2.  0.7 0.3 0.9 3.6 3.1 3.2 2.5 2.2 2.8 3.4 6.2 4.  5.6\n",
      " 2.9 2.1 3.8 4.4]\n",
      "==============================\n",
      "slope : [0 2 1]\n",
      "==============================\n",
      "ca : [0 2 1 3 4]\n",
      "==============================\n",
      "thalassemia : [1 2 3 0]\n",
      "==============================\n",
      "target : [1 0]\n"
     ]
    }
   ],
   "source": [
    "categorical_val = []\n",
    "continous_val = []\n",
    "for column in df.columns:\n",
    "    print('==============================')\n",
    "    print(f\"{column} : {df[column].unique()}\")\n",
    "    if len(df[column].unique()) <= 10:\n",
    "        categorical_val.append(column)\n",
    "    else:\n",
    "        continous_val.append(column)"
   ]
  },
  {
   "cell_type": "code",
   "execution_count": 78,
   "id": "06bfdb79",
   "metadata": {},
   "outputs": [
    {
     "data": {
      "image/png": "[encoded data removed]",
      "text/plain": [
       "<Figure size 1080x1080 with 9 Axes>"
      ]
     },
     "metadata": {
      "needs_background": "light"
     },
     "output_type": "display_data"
    }
   ],
   "source": [
    "plt.figure(figsize=(15, 15))\n",
    "\n",
    "for i, column in enumerate(categorical_val, 1):\n",
    "    plt.subplot(3, 3, i)\n",
    "    df[df[\"target\"] == 0][column].hist(bins=35, color='blue', label='Have Heart Disease = NO', alpha=0.6)\n",
    "    df[df[\"target\"] == 1][column].hist(bins=35, color='red', label='Have Heart Disease = YES', alpha=0.6)\n",
    "    plt.legend()\n",
    "    plt.xlabel(column)"
   ]
  },
  {
   "cell_type": "markdown",
   "id": "30083bb3",
   "metadata": {},
   "source": [
    "Observations from the above plot:\n",
    "\n",
    "- cp {Chest pain}: People with cp 1, 2, 3 are more likely to have heart disease than people with cp 0.\n",
    "- restecg {resting EKG results}: People with a value of 1 (reporting an abnormal heart rhythm, which can range from mild symptoms to severe problems) are more likely to have heart disease.\n",
    "- exang {exercise-induced angina}: people with a value of 0 (No ==> angina induced by exercise) have more heart disease than people with a value of 1 (Yes ==> angina induced by exercise)\n",
    "- slope {the slope of the ST segment of peak exercise}: People with a slope value of 2 (Downslopins: signs of an unhealthy heart) are more likely to have heart disease than people with a slope value of 2 slope is 0 (Upsloping: best heart rate with exercise) or 1 (Flatsloping: minimal change (typical healthy heart)).\n",
    "- ca {number of major vessels (0-3) stained by fluoroscopy}: the more blood movement the better, so people with ca equal to 0 are more likely to have heart disease.\n",
    "- thal {thalium stress result}: People with a thal value of 2 (defect corrected: once was a defect but ok now) are more likely to have heart disease."
   ]
  },
  {
   "cell_type": "code",
   "execution_count": 79,
   "id": "a449be8b",
   "metadata": {},
   "outputs": [
    {
     "data": {
      "text/plain": [
       "(14.5, -0.5)"
      ]
     },
     "execution_count": 79,
     "metadata": {},
     "output_type": "execute_result"
    },
    {
     "data": {
      "image/png": "[encoded data removed]",
      "text/plain": [
       "<Figure size 1080x1080 with 2 Axes>"
      ]
     },
     "metadata": {
      "needs_background": "light"
     },
     "output_type": "display_data"
    }
   ],
   "source": [
    "# Let's make our correlation matrix a little prettier\n",
    "corr_matrix = df.corr()\n",
    "fig, ax = plt.subplots(figsize=(15, 15))\n",
    "ax = sns.heatmap(corr_matrix,\n",
    "                 annot=True,\n",
    "                 linewidths=0.5,\n",
    "                 fmt=\".2f\",\n",
    "                 cmap=\"YlGnBu\");\n",
    "bottom, top = ax.get_ylim()\n",
    "ax.set_ylim(bottom + 0.5, top - 0.5)"
   ]
  },
  {
   "cell_type": "code",
   "execution_count": 80,
   "id": "71bb9d29",
   "metadata": {},
   "outputs": [
    {
     "data": {
      "text/plain": [
       "array([[<AxesSubplot:title={'center':'age'}>,\n",
       "        <AxesSubplot:title={'center':'gender'}>,\n",
       "        <AxesSubplot:title={'center':'chest_pain'}>,\n",
       "        <AxesSubplot:title={'center':'rest_bps'}>],\n",
       "       [<AxesSubplot:title={'center':'cholestrol'}>,\n",
       "        <AxesSubplot:title={'center':'fasting_blood_sugar'}>,\n",
       "        <AxesSubplot:title={'center':'rest_ecg'}>,\n",
       "        <AxesSubplot:title={'center':'thalach'}>],\n",
       "       [<AxesSubplot:title={'center':'exer_angina'}>,\n",
       "        <AxesSubplot:title={'center':'old_peak'}>,\n",
       "        <AxesSubplot:title={'center':'slope'}>,\n",
       "        <AxesSubplot:title={'center':'ca'}>],\n",
       "       [<AxesSubplot:title={'center':'thalassemia'}>,\n",
       "        <AxesSubplot:title={'center':'target'}>, <AxesSubplot:>,\n",
       "        <AxesSubplot:>]], dtype=object)"
      ]
     },
     "execution_count": 80,
     "metadata": {},
     "output_type": "execute_result"
    },
    {
     "data": {
      "image/png": "[encoded data removed]",
      "text/plain": [
       "<Figure size 1080x720 with 16 Axes>"
      ]
     },
     "metadata": {
      "needs_background": "light"
     },
     "output_type": "display_data"
    }
   ],
   "source": [
    "df.hist(bins=30, figsize=(15, 10))"
   ]
  },
  {
   "cell_type": "code",
   "execution_count": 81,
   "id": "7147b42d",
   "metadata": {},
   "outputs": [
    {
     "data": {
      "text/plain": [
       "Text(0.5, 1.0, 'Count of each Target Class')"
      ]
     },
     "execution_count": 81,
     "metadata": {},
     "output_type": "execute_result"
    },
    {
     "data": {
      "image/png": "[encoded data removed]",
      "text/plain": [
       "<Figure size 576x432 with 1 Axes>"
      ]
     },
     "metadata": {
      "needs_background": "light"
     },
     "output_type": "display_data"
    }
   ],
   "source": [
    "rcParams['figure.figsize'] = 8,6\n",
    "plt.bar(df['target'].unique(), df['target'].value_counts(), color = ['red', 'green'])\n",
    "plt.xticks([0, 1])\n",
    "plt.xlabel('Target Classes')\n",
    "plt.ylabel('Count')\n",
    "plt.title('Count of each Target Class')"
   ]
  },
  {
   "cell_type": "code",
   "execution_count": 82,
   "id": "4808dcea",
   "metadata": {},
   "outputs": [
    {
     "data": {
      "text/plain": [
       "<AxesSubplot:title={'center':'Correlation with target'}>"
      ]
     },
     "execution_count": 82,
     "metadata": {},
     "output_type": "execute_result"
    },
    {
     "data": {
      "image/png": "[encoded data removed]",
      "text/plain": [
       "<Figure size 864x576 with 1 Axes>"
      ]
     },
     "metadata": {
      "needs_background": "light"
     },
     "output_type": "display_data"
    }
   ],
   "source": [
    "df.corrwith(df.target).plot(kind='bar', grid=True, figsize=(12, 8), \n",
    "                                                   title=\"Correlation with target\")"
   ]
  },
  {
   "cell_type": "markdown",
   "id": "c793d17a",
   "metadata": {},
   "source": [
    "Observations from correlation:\n",
    "\n",
    "- fbs and chol are the least correlated with the target variable.\n",
    "- All other variables have a significant correlation with the target variable."
   ]
  },
  {
   "cell_type": "markdown",
   "id": "a58b5a4a",
   "metadata": {},
   "source": [
    "### Data Preprocessing"
   ]
  },
  {
   "cell_type": "code",
   "execution_count": 83,
   "id": "e2b49d34",
   "metadata": {},
   "outputs": [
    {
     "name": "stdout",
     "output_type": "stream",
     "text": [
      "<class 'pandas.core.frame.DataFrame'>\n",
      "RangeIndex: 303 entries, 0 to 302\n",
      "Data columns (total 14 columns):\n",
      " #   Column               Non-Null Count  Dtype  \n",
      "---  ------               --------------  -----  \n",
      " 0   age                  303 non-null    int64  \n",
      " 1   gender               303 non-null    int64  \n",
      " 2   chest_pain           303 non-null    int64  \n",
      " 3   rest_bps             303 non-null    int64  \n",
      " 4   cholestrol           303 non-null    int64  \n",
      " 5   fasting_blood_sugar  303 non-null    int64  \n",
      " 6   rest_ecg             303 non-null    int64  \n",
      " 7   thalach              303 non-null    int64  \n",
      " 8   exer_angina          303 non-null    int64  \n",
      " 9   old_peak             303 non-null    float64\n",
      " 10  slope                303 non-null    int64  \n",
      " 11  ca                   303 non-null    int64  \n",
      " 12  thalassemia          303 non-null    int64  \n",
      " 13  target               303 non-null    int64  \n",
      "dtypes: float64(1), int64(13)\n",
      "memory usage: 33.3 KB\n"
     ]
    }
   ],
   "source": [
    "df.info()"
   ]
  },
  {
   "cell_type": "code",
   "execution_count": 84,
   "id": "5cfdf136",
   "metadata": {},
   "outputs": [
    {
     "data": {
      "text/plain": [
       "Index(['age', 'gender', 'chest_pain', 'rest_bps', 'cholestrol',\n",
       "       'fasting_blood_sugar', 'rest_ecg', 'thalach', 'exer_angina', 'old_peak',\n",
       "       'slope', 'ca', 'thalassemia', 'target'],\n",
       "      dtype='object')"
      ]
     },
     "execution_count": 84,
     "metadata": {},
     "output_type": "execute_result"
    }
   ],
   "source": [
    "df.columns"
   ]
  },
  {
   "cell_type": "code",
   "execution_count": 85,
   "id": "92e25ce3",
   "metadata": {},
   "outputs": [],
   "source": [
    "target_var = df['target']\n",
    "independent_features = df.drop(columns = ['target'])"
   ]
  },
  {
   "cell_type": "code",
   "execution_count": 86,
   "id": "a5fa8042",
   "metadata": {},
   "outputs": [],
   "source": [
    "df = pd.get_dummies(independent_features, columns = ['gender', 'chest_pain', 'fasting_blood_sugar', 'rest_ecg', 'exer_angina', 'slope', 'ca', 'thalassemia'])"
   ]
  },
  {
   "cell_type": "code",
   "execution_count": 87,
   "id": "0ee7c74e",
   "metadata": {},
   "outputs": [
    {
     "data": {
      "text/html": [
       "<div>\n",
       "<style scoped>\n",
       "    .dataframe tbody tr th:only-of-type {\n",
       "        vertical-align: middle;\n",
       "    }\n",
       "\n",
       "    .dataframe tbody tr th {\n",
       "        vertical-align: top;\n",
       "    }\n",
       "\n",
       "    .dataframe thead th {\n",
       "        text-align: right;\n",
       "    }\n",
       "</style>\n",
       "<table border=\"1\" class=\"dataframe\">\n",
       "  <thead>\n",
       "    <tr style=\"text-align: right;\">\n",
       "      <th></th>\n",
       "      <th>age</th>\n",
       "      <th>rest_bps</th>\n",
       "      <th>cholestrol</th>\n",
       "      <th>thalach</th>\n",
       "      <th>old_peak</th>\n",
       "      <th>gender_0</th>\n",
       "      <th>gender_1</th>\n",
       "      <th>chest_pain_0</th>\n",
       "      <th>chest_pain_1</th>\n",
       "      <th>chest_pain_2</th>\n",
       "      <th>...</th>\n",
       "      <th>slope_2</th>\n",
       "      <th>ca_0</th>\n",
       "      <th>ca_1</th>\n",
       "      <th>ca_2</th>\n",
       "      <th>ca_3</th>\n",
       "      <th>ca_4</th>\n",
       "      <th>thalassemia_0</th>\n",
       "      <th>thalassemia_1</th>\n",
       "      <th>thalassemia_2</th>\n",
       "      <th>thalassemia_3</th>\n",
       "    </tr>\n",
       "  </thead>\n",
       "  <tbody>\n",
       "    <tr>\n",
       "      <th>298</th>\n",
       "      <td>57</td>\n",
       "      <td>140</td>\n",
       "      <td>241</td>\n",
       "      <td>123</td>\n",
       "      <td>0.20</td>\n",
       "      <td>1</td>\n",
       "      <td>0</td>\n",
       "      <td>1</td>\n",
       "      <td>0</td>\n",
       "      <td>0</td>\n",
       "      <td>...</td>\n",
       "      <td>0</td>\n",
       "      <td>1</td>\n",
       "      <td>0</td>\n",
       "      <td>0</td>\n",
       "      <td>0</td>\n",
       "      <td>0</td>\n",
       "      <td>0</td>\n",
       "      <td>0</td>\n",
       "      <td>0</td>\n",
       "      <td>1</td>\n",
       "    </tr>\n",
       "    <tr>\n",
       "      <th>299</th>\n",
       "      <td>45</td>\n",
       "      <td>110</td>\n",
       "      <td>264</td>\n",
       "      <td>132</td>\n",
       "      <td>1.20</td>\n",
       "      <td>0</td>\n",
       "      <td>1</td>\n",
       "      <td>0</td>\n",
       "      <td>0</td>\n",
       "      <td>0</td>\n",
       "      <td>...</td>\n",
       "      <td>0</td>\n",
       "      <td>1</td>\n",
       "      <td>0</td>\n",
       "      <td>0</td>\n",
       "      <td>0</td>\n",
       "      <td>0</td>\n",
       "      <td>0</td>\n",
       "      <td>0</td>\n",
       "      <td>0</td>\n",
       "      <td>1</td>\n",
       "    </tr>\n",
       "    <tr>\n",
       "      <th>300</th>\n",
       "      <td>68</td>\n",
       "      <td>144</td>\n",
       "      <td>193</td>\n",
       "      <td>141</td>\n",
       "      <td>3.40</td>\n",
       "      <td>0</td>\n",
       "      <td>1</td>\n",
       "      <td>1</td>\n",
       "      <td>0</td>\n",
       "      <td>0</td>\n",
       "      <td>...</td>\n",
       "      <td>0</td>\n",
       "      <td>0</td>\n",
       "      <td>0</td>\n",
       "      <td>1</td>\n",
       "      <td>0</td>\n",
       "      <td>0</td>\n",
       "      <td>0</td>\n",
       "      <td>0</td>\n",
       "      <td>0</td>\n",
       "      <td>1</td>\n",
       "    </tr>\n",
       "    <tr>\n",
       "      <th>301</th>\n",
       "      <td>57</td>\n",
       "      <td>130</td>\n",
       "      <td>131</td>\n",
       "      <td>115</td>\n",
       "      <td>1.20</td>\n",
       "      <td>0</td>\n",
       "      <td>1</td>\n",
       "      <td>1</td>\n",
       "      <td>0</td>\n",
       "      <td>0</td>\n",
       "      <td>...</td>\n",
       "      <td>0</td>\n",
       "      <td>0</td>\n",
       "      <td>1</td>\n",
       "      <td>0</td>\n",
       "      <td>0</td>\n",
       "      <td>0</td>\n",
       "      <td>0</td>\n",
       "      <td>0</td>\n",
       "      <td>0</td>\n",
       "      <td>1</td>\n",
       "    </tr>\n",
       "    <tr>\n",
       "      <th>302</th>\n",
       "      <td>57</td>\n",
       "      <td>130</td>\n",
       "      <td>236</td>\n",
       "      <td>174</td>\n",
       "      <td>0.00</td>\n",
       "      <td>1</td>\n",
       "      <td>0</td>\n",
       "      <td>0</td>\n",
       "      <td>1</td>\n",
       "      <td>0</td>\n",
       "      <td>...</td>\n",
       "      <td>0</td>\n",
       "      <td>0</td>\n",
       "      <td>1</td>\n",
       "      <td>0</td>\n",
       "      <td>0</td>\n",
       "      <td>0</td>\n",
       "      <td>0</td>\n",
       "      <td>0</td>\n",
       "      <td>1</td>\n",
       "      <td>0</td>\n",
       "    </tr>\n",
       "  </tbody>\n",
       "</table>\n",
       "<p>5 rows × 30 columns</p>\n",
       "</div>"
      ],
      "text/plain": [
       "     age  rest_bps  cholestrol  thalach  old_peak  gender_0  gender_1  \\\n",
       "298   57       140         241      123      0.20         1         0   \n",
       "299   45       110         264      132      1.20         0         1   \n",
       "300   68       144         193      141      3.40         0         1   \n",
       "301   57       130         131      115      1.20         0         1   \n",
       "302   57       130         236      174      0.00         1         0   \n",
       "\n",
       "     chest_pain_0  chest_pain_1  chest_pain_2  ...  slope_2  ca_0  ca_1  ca_2  \\\n",
       "298             1             0             0  ...        0     1     0     0   \n",
       "299             0             0             0  ...        0     1     0     0   \n",
       "300             1             0             0  ...        0     0     0     1   \n",
       "301             1             0             0  ...        0     0     1     0   \n",
       "302             0             1             0  ...        0     0     1     0   \n",
       "\n",
       "     ca_3  ca_4  thalassemia_0  thalassemia_1  thalassemia_2  thalassemia_3  \n",
       "298     0     0              0              0              0              1  \n",
       "299     0     0              0              0              0              1  \n",
       "300     0     0              0              0              0              1  \n",
       "301     0     0              0              0              0              1  \n",
       "302     0     0              0              0              1              0  \n",
       "\n",
       "[5 rows x 30 columns]"
      ]
     },
     "execution_count": 87,
     "metadata": {},
     "output_type": "execute_result"
    }
   ],
   "source": [
    "df.tail()"
   ]
  },
  {
   "cell_type": "code",
   "execution_count": 88,
   "id": "e9e9da3b",
   "metadata": {},
   "outputs": [
    {
     "data": {
      "text/plain": [
       "298    0\n",
       "299    0\n",
       "300    0\n",
       "301    0\n",
       "302    0\n",
       "Name: target, dtype: int64"
      ]
     },
     "execution_count": 88,
     "metadata": {},
     "output_type": "execute_result"
    }
   ],
   "source": [
    "target_var.tail()"
   ]
  },
  {
   "cell_type": "code",
   "execution_count": 89,
   "id": "e554c960",
   "metadata": {},
   "outputs": [
    {
     "data": {
      "text/plain": [
       "array([[5.70e+01, 1.40e+02, 2.41e+02, 1.23e+02, 2.00e-01, 1.00e+00,\n",
       "        0.00e+00, 1.00e+00, 0.00e+00, 0.00e+00, 0.00e+00, 1.00e+00,\n",
       "        0.00e+00, 0.00e+00, 1.00e+00, 0.00e+00, 0.00e+00, 1.00e+00,\n",
       "        0.00e+00, 1.00e+00, 0.00e+00, 1.00e+00, 0.00e+00, 0.00e+00,\n",
       "        0.00e+00, 0.00e+00, 0.00e+00, 0.00e+00, 0.00e+00, 1.00e+00]])"
      ]
     },
     "execution_count": 89,
     "metadata": {},
     "output_type": "execute_result"
    }
   ],
   "source": [
    "df.iloc[298].values.reshape(1,-1)"
   ]
  },
  {
   "cell_type": "markdown",
   "id": "49142728",
   "metadata": {},
   "source": [
    "## Data Transformation"
   ]
  },
  {
   "cell_type": "code",
   "execution_count": 90,
   "id": "a65ca632",
   "metadata": {},
   "outputs": [],
   "source": [
    "sc = StandardScaler()"
   ]
  },
  {
   "cell_type": "code",
   "execution_count": 91,
   "id": "cc3e196b",
   "metadata": {},
   "outputs": [],
   "source": [
    "col_to_scale = ['age', 'rest_bps', 'cholestrol', 'thalach', 'old_peak']\n",
    "df[col_to_scale] = sc.fit_transform(df[col_to_scale])"
   ]
  },
  {
   "cell_type": "code",
   "execution_count": 92,
   "id": "a6238822",
   "metadata": {},
   "outputs": [
    {
     "data": {
      "text/html": [
       "<div>\n",
       "<style scoped>\n",
       "    .dataframe tbody tr th:only-of-type {\n",
       "        vertical-align: middle;\n",
       "    }\n",
       "\n",
       "    .dataframe tbody tr th {\n",
       "        vertical-align: top;\n",
       "    }\n",
       "\n",
       "    .dataframe thead th {\n",
       "        text-align: right;\n",
       "    }\n",
       "</style>\n",
       "<table border=\"1\" class=\"dataframe\">\n",
       "  <thead>\n",
       "    <tr style=\"text-align: right;\">\n",
       "      <th></th>\n",
       "      <th>age</th>\n",
       "      <th>rest_bps</th>\n",
       "      <th>cholestrol</th>\n",
       "      <th>thalach</th>\n",
       "      <th>old_peak</th>\n",
       "      <th>gender_0</th>\n",
       "      <th>gender_1</th>\n",
       "      <th>chest_pain_0</th>\n",
       "      <th>chest_pain_1</th>\n",
       "      <th>chest_pain_2</th>\n",
       "      <th>...</th>\n",
       "      <th>slope_2</th>\n",
       "      <th>ca_0</th>\n",
       "      <th>ca_1</th>\n",
       "      <th>ca_2</th>\n",
       "      <th>ca_3</th>\n",
       "      <th>ca_4</th>\n",
       "      <th>thalassemia_0</th>\n",
       "      <th>thalassemia_1</th>\n",
       "      <th>thalassemia_2</th>\n",
       "      <th>thalassemia_3</th>\n",
       "    </tr>\n",
       "  </thead>\n",
       "  <tbody>\n",
       "    <tr>\n",
       "      <th>0</th>\n",
       "      <td>0.95</td>\n",
       "      <td>0.76</td>\n",
       "      <td>-0.26</td>\n",
       "      <td>0.02</td>\n",
       "      <td>1.09</td>\n",
       "      <td>0</td>\n",
       "      <td>1</td>\n",
       "      <td>0</td>\n",
       "      <td>0</td>\n",
       "      <td>0</td>\n",
       "      <td>...</td>\n",
       "      <td>0</td>\n",
       "      <td>1</td>\n",
       "      <td>0</td>\n",
       "      <td>0</td>\n",
       "      <td>0</td>\n",
       "      <td>0</td>\n",
       "      <td>0</td>\n",
       "      <td>1</td>\n",
       "      <td>0</td>\n",
       "      <td>0</td>\n",
       "    </tr>\n",
       "    <tr>\n",
       "      <th>1</th>\n",
       "      <td>-1.92</td>\n",
       "      <td>-0.09</td>\n",
       "      <td>0.07</td>\n",
       "      <td>1.63</td>\n",
       "      <td>2.12</td>\n",
       "      <td>0</td>\n",
       "      <td>1</td>\n",
       "      <td>0</td>\n",
       "      <td>0</td>\n",
       "      <td>1</td>\n",
       "      <td>...</td>\n",
       "      <td>0</td>\n",
       "      <td>1</td>\n",
       "      <td>0</td>\n",
       "      <td>0</td>\n",
       "      <td>0</td>\n",
       "      <td>0</td>\n",
       "      <td>0</td>\n",
       "      <td>0</td>\n",
       "      <td>1</td>\n",
       "      <td>0</td>\n",
       "    </tr>\n",
       "    <tr>\n",
       "      <th>2</th>\n",
       "      <td>-1.47</td>\n",
       "      <td>-0.09</td>\n",
       "      <td>-0.82</td>\n",
       "      <td>0.98</td>\n",
       "      <td>0.31</td>\n",
       "      <td>1</td>\n",
       "      <td>0</td>\n",
       "      <td>0</td>\n",
       "      <td>1</td>\n",
       "      <td>0</td>\n",
       "      <td>...</td>\n",
       "      <td>1</td>\n",
       "      <td>1</td>\n",
       "      <td>0</td>\n",
       "      <td>0</td>\n",
       "      <td>0</td>\n",
       "      <td>0</td>\n",
       "      <td>0</td>\n",
       "      <td>0</td>\n",
       "      <td>1</td>\n",
       "      <td>0</td>\n",
       "    </tr>\n",
       "    <tr>\n",
       "      <th>3</th>\n",
       "      <td>0.18</td>\n",
       "      <td>-0.66</td>\n",
       "      <td>-0.20</td>\n",
       "      <td>1.24</td>\n",
       "      <td>-0.21</td>\n",
       "      <td>0</td>\n",
       "      <td>1</td>\n",
       "      <td>0</td>\n",
       "      <td>1</td>\n",
       "      <td>0</td>\n",
       "      <td>...</td>\n",
       "      <td>1</td>\n",
       "      <td>1</td>\n",
       "      <td>0</td>\n",
       "      <td>0</td>\n",
       "      <td>0</td>\n",
       "      <td>0</td>\n",
       "      <td>0</td>\n",
       "      <td>0</td>\n",
       "      <td>1</td>\n",
       "      <td>0</td>\n",
       "    </tr>\n",
       "    <tr>\n",
       "      <th>4</th>\n",
       "      <td>0.29</td>\n",
       "      <td>-0.66</td>\n",
       "      <td>2.08</td>\n",
       "      <td>0.58</td>\n",
       "      <td>-0.38</td>\n",
       "      <td>1</td>\n",
       "      <td>0</td>\n",
       "      <td>1</td>\n",
       "      <td>0</td>\n",
       "      <td>0</td>\n",
       "      <td>...</td>\n",
       "      <td>1</td>\n",
       "      <td>1</td>\n",
       "      <td>0</td>\n",
       "      <td>0</td>\n",
       "      <td>0</td>\n",
       "      <td>0</td>\n",
       "      <td>0</td>\n",
       "      <td>0</td>\n",
       "      <td>1</td>\n",
       "      <td>0</td>\n",
       "    </tr>\n",
       "  </tbody>\n",
       "</table>\n",
       "<p>5 rows × 30 columns</p>\n",
       "</div>"
      ],
      "text/plain": [
       "    age  rest_bps  cholestrol  thalach  old_peak  gender_0  gender_1  \\\n",
       "0  0.95      0.76       -0.26     0.02      1.09         0         1   \n",
       "1 -1.92     -0.09        0.07     1.63      2.12         0         1   \n",
       "2 -1.47     -0.09       -0.82     0.98      0.31         1         0   \n",
       "3  0.18     -0.66       -0.20     1.24     -0.21         0         1   \n",
       "4  0.29     -0.66        2.08     0.58     -0.38         1         0   \n",
       "\n",
       "   chest_pain_0  chest_pain_1  chest_pain_2  ...  slope_2  ca_0  ca_1  ca_2  \\\n",
       "0             0             0             0  ...        0     1     0     0   \n",
       "1             0             0             1  ...        0     1     0     0   \n",
       "2             0             1             0  ...        1     1     0     0   \n",
       "3             0             1             0  ...        1     1     0     0   \n",
       "4             1             0             0  ...        1     1     0     0   \n",
       "\n",
       "   ca_3  ca_4  thalassemia_0  thalassemia_1  thalassemia_2  thalassemia_3  \n",
       "0     0     0              0              1              0              0  \n",
       "1     0     0              0              0              1              0  \n",
       "2     0     0              0              0              1              0  \n",
       "3     0     0              0              0              1              0  \n",
       "4     0     0              0              0              1              0  \n",
       "\n",
       "[5 rows x 30 columns]"
      ]
     },
     "execution_count": 92,
     "metadata": {},
     "output_type": "execute_result"
    }
   ],
   "source": [
    "df.head()"
   ]
  },
  {
   "cell_type": "markdown",
   "id": "51bfb52f",
   "metadata": {},
   "source": [
    "## Model Training and train Test Split"
   ]
  },
  {
   "cell_type": "code",
   "execution_count": 93,
   "id": "82e59211",
   "metadata": {},
   "outputs": [],
   "source": [
    "X = df\n",
    "y = target_var\n",
    "\n",
    "X_train, X_test, y_train, y_test = train_test_split(X, y, test_size=0.2, random_state=42)"
   ]
  },
  {
   "cell_type": "code",
   "execution_count": 94,
   "id": "98e9e06d",
   "metadata": {},
   "outputs": [],
   "source": [
    "def print_score(clf, X_train, y_train, X_test, y_test, train=True):\n",
    "    if train:\n",
    "        pred = clf.predict(X_train)\n",
    "        clf_report = pd.DataFrame(classification_report(y_train, pred, output_dict=True))\n",
    "        print(\"Train Result:\\n================================================\")\n",
    "        print(f\"Accuracy Score: {accuracy_score(y_train, pred) * 100:.2f}%\")\n",
    "        print(\"_______________________________________________\")\n",
    "        print(f\"CLASSIFICATION REPORT:\\n{clf_report}\")\n",
    "        print(\"_______________________________________________\")\n",
    "        print(f\"Confusion Matrix: \\n {confusion_matrix(y_train, pred)}\\n\")\n",
    "        \n",
    "    elif train==False:\n",
    "        pred = clf.predict(X_test)\n",
    "        clf_report = pd.DataFrame(classification_report(y_test, pred, output_dict=True))\n",
    "        print(\"Test Result:\\n================================================\")        \n",
    "        print(f\"Accuracy Score: {accuracy_score(y_test, pred) * 100:.2f}%\")\n",
    "        print(\"_______________________________________________\")\n",
    "        print(f\"CLASSIFICATION REPORT:\\n{clf_report}\")\n",
    "        print(\"_______________________________________________\")\n",
    "        print(f\"Confusion Matrix: \\n {confusion_matrix(y_test, pred)}\\n\")"
   ]
  },
  {
   "cell_type": "markdown",
   "id": "fc06dfc0",
   "metadata": {},
   "source": []
  },
  {
   "cell_type": "markdown",
   "id": "47a0b23b",
   "metadata": {},
   "source": [
    "### Logistic Regression"
   ]
  },
  {
   "cell_type": "code",
   "execution_count": 95,
   "id": "13f0389b",
   "metadata": {},
   "outputs": [
    {
     "name": "stdout",
     "output_type": "stream",
     "text": [
      "Train Result:\n",
      "================================================\n",
      "Accuracy Score: 87.60%\n",
      "_______________________________________________\n",
      "CLASSIFICATION REPORT:\n",
      "               0      1  accuracy  macro avg  weighted avg\n",
      "precision   0.88   0.87      0.88       0.88          0.88\n",
      "recall      0.83   0.91      0.88       0.87          0.88\n",
      "f1-score    0.86   0.89      0.88       0.87          0.88\n",
      "support   109.00 133.00      0.88     242.00        242.00\n",
      "_______________________________________________\n",
      "Confusion Matrix: \n",
      " [[ 91  18]\n",
      " [ 12 121]]\n",
      "\n",
      "Test Result:\n",
      "================================================\n",
      "Accuracy Score: 88.52%\n",
      "_______________________________________________\n",
      "CLASSIFICATION REPORT:\n",
      "              0     1  accuracy  macro avg  weighted avg\n",
      "precision  0.87  0.90      0.89       0.88          0.89\n",
      "recall     0.90  0.88      0.89       0.89          0.89\n",
      "f1-score   0.88  0.89      0.89       0.89          0.89\n",
      "support   29.00 32.00      0.89      61.00         61.00\n",
      "_______________________________________________\n",
      "Confusion Matrix: \n",
      " [[26  3]\n",
      " [ 4 28]]\n",
      "\n"
     ]
    }
   ],
   "source": [
    "lr_clf = LogisticRegression(solver='liblinear')\n",
    "lr_clf.fit(X_train, y_train)\n",
    "\n",
    "print_score(lr_clf, X_train, y_train, X_test, y_test, train=True)\n",
    "print_score(lr_clf, X_train, y_train, X_test, y_test, train=False)"
   ]
  },
  {
   "cell_type": "markdown",
   "id": "9513d501",
   "metadata": {},
   "source": [
    "### Support Vector Machine"
   ]
  },
  {
   "cell_type": "code",
   "execution_count": 96,
   "id": "a9f0c371",
   "metadata": {},
   "outputs": [
    {
     "name": "stdout",
     "output_type": "stream",
     "text": [
      "Train Result:\n",
      "================================================\n",
      "Accuracy Score: 92.15%\n",
      "_______________________________________________\n",
      "CLASSIFICATION REPORT:\n",
      "               0      1  accuracy  macro avg  weighted avg\n",
      "precision   0.92   0.92      0.92       0.92          0.92\n",
      "recall      0.90   0.94      0.92       0.92          0.92\n",
      "f1-score    0.91   0.93      0.92       0.92          0.92\n",
      "support   109.00 133.00      0.92     242.00        242.00\n",
      "_______________________________________________\n",
      "Confusion Matrix: \n",
      " [[ 98  11]\n",
      " [  8 125]]\n",
      "\n",
      "Test Result:\n",
      "================================================\n",
      "Accuracy Score: 90.16%\n",
      "_______________________________________________\n",
      "CLASSIFICATION REPORT:\n",
      "              0     1  accuracy  macro avg  weighted avg\n",
      "precision  0.87  0.93      0.90       0.90          0.90\n",
      "recall     0.93  0.88      0.90       0.90          0.90\n",
      "f1-score   0.90  0.90      0.90       0.90          0.90\n",
      "support   29.00 32.00      0.90      61.00         61.00\n",
      "_______________________________________________\n",
      "Confusion Matrix: \n",
      " [[27  2]\n",
      " [ 4 28]]\n",
      "\n"
     ]
    }
   ],
   "source": [
    "svc_clf = SVC()\n",
    "svc_clf.fit(X_train, y_train)\n",
    "\n",
    "print_score(svc_clf, X_train, y_train, X_test, y_test, train=True)\n",
    "print_score(svc_clf, X_train, y_train, X_test, y_test, train=False)"
   ]
  },
  {
   "cell_type": "markdown",
   "id": "3a26e87b",
   "metadata": {},
   "source": [
    "### Decision Tree"
   ]
  },
  {
   "cell_type": "code",
   "execution_count": 97,
   "id": "0a33706c",
   "metadata": {},
   "outputs": [
    {
     "name": "stdout",
     "output_type": "stream",
     "text": [
      "Train Result:\n",
      "================================================\n",
      "Accuracy Score: 100.00%\n",
      "_______________________________________________\n",
      "CLASSIFICATION REPORT:\n",
      "               0      1  accuracy  macro avg  weighted avg\n",
      "precision   1.00   1.00      1.00       1.00          1.00\n",
      "recall      1.00   1.00      1.00       1.00          1.00\n",
      "f1-score    1.00   1.00      1.00       1.00          1.00\n",
      "support   109.00 133.00      1.00     242.00        242.00\n",
      "_______________________________________________\n",
      "Confusion Matrix: \n",
      " [[109   0]\n",
      " [  0 133]]\n",
      "\n",
      "Test Result:\n",
      "================================================\n",
      "Accuracy Score: 85.25%\n",
      "_______________________________________________\n",
      "CLASSIFICATION REPORT:\n",
      "              0     1  accuracy  macro avg  weighted avg\n",
      "precision  0.81  0.90      0.85       0.85          0.86\n",
      "recall     0.90  0.81      0.85       0.85          0.85\n",
      "f1-score   0.85  0.85      0.85       0.85          0.85\n",
      "support   29.00 32.00      0.85      61.00         61.00\n",
      "_______________________________________________\n",
      "Confusion Matrix: \n",
      " [[26  3]\n",
      " [ 6 26]]\n",
      "\n"
     ]
    }
   ],
   "source": [
    "dt_clf = DecisionTreeClassifier()\n",
    "dt_clf.fit(X_train, y_train)\n",
    "\n",
    "print_score(dt_clf, X_train, y_train, X_test, y_test, train=True)\n",
    "print_score(dt_clf, X_train, y_train, X_test, y_test, train=False)"
   ]
  },
  {
   "cell_type": "markdown",
   "id": "af262431",
   "metadata": {},
   "source": [
    "### Random Forest"
   ]
  },
  {
   "cell_type": "code",
   "execution_count": 98,
   "id": "6b917c03",
   "metadata": {},
   "outputs": [
    {
     "name": "stdout",
     "output_type": "stream",
     "text": [
      "Train Result:\n",
      "================================================\n",
      "Accuracy Score: 100.00%\n",
      "_______________________________________________\n",
      "CLASSIFICATION REPORT:\n",
      "               0      1  accuracy  macro avg  weighted avg\n",
      "precision   1.00   1.00      1.00       1.00          1.00\n",
      "recall      1.00   1.00      1.00       1.00          1.00\n",
      "f1-score    1.00   1.00      1.00       1.00          1.00\n",
      "support   109.00 133.00      1.00     242.00        242.00\n",
      "_______________________________________________\n",
      "Confusion Matrix: \n",
      " [[109   0]\n",
      " [  0 133]]\n",
      "\n",
      "Test Result:\n",
      "================================================\n",
      "Accuracy Score: 86.89%\n",
      "_______________________________________________\n",
      "CLASSIFICATION REPORT:\n",
      "              0     1  accuracy  macro avg  weighted avg\n",
      "precision  0.86  0.88      0.87       0.87          0.87\n",
      "recall     0.86  0.88      0.87       0.87          0.87\n",
      "f1-score   0.86  0.88      0.87       0.87          0.87\n",
      "support   29.00 32.00      0.87      61.00         61.00\n",
      "_______________________________________________\n",
      "Confusion Matrix: \n",
      " [[25  4]\n",
      " [ 4 28]]\n",
      "\n"
     ]
    }
   ],
   "source": [
    "rf_clf = RandomForestClassifier()\n",
    "rf_clf.fit(X_train, y_train)\n",
    "\n",
    "print_score(rf_clf, X_train, y_train, X_test, y_test, train=True)\n",
    "print_score(rf_clf, X_train, y_train, X_test, y_test, train=False)"
   ]
  },
  {
   "cell_type": "markdown",
   "id": "ff6c14c6",
   "metadata": {},
   "source": [
    "### Testing on Single User"
   ]
  },
  {
   "cell_type": "code",
   "execution_count": 99,
   "id": "f939bc2b",
   "metadata": {},
   "outputs": [
    {
     "data": {
      "text/plain": [
       "age                      0.95\n",
       "rest_bps                 0.76\n",
       "cholestrol              -0.26\n",
       "thalach                  0.02\n",
       "old_peak                 1.09\n",
       "gender_0                 0.00\n",
       "gender_1                 1.00\n",
       "chest_pain_0             0.00\n",
       "chest_pain_1             0.00\n",
       "chest_pain_2             0.00\n",
       "chest_pain_3             1.00\n",
       "fasting_blood_sugar_0    0.00\n",
       "fasting_blood_sugar_1    1.00\n",
       "rest_ecg_0               1.00\n",
       "rest_ecg_1               0.00\n",
       "rest_ecg_2               0.00\n",
       "exer_angina_0            1.00\n",
       "exer_angina_1            0.00\n",
       "slope_0                  1.00\n",
       "slope_1                  0.00\n",
       "slope_2                  0.00\n",
       "ca_0                     1.00\n",
       "ca_1                     0.00\n",
       "ca_2                     0.00\n",
       "ca_3                     0.00\n",
       "ca_4                     0.00\n",
       "thalassemia_0            0.00\n",
       "thalassemia_1            1.00\n",
       "thalassemia_2            0.00\n",
       "thalassemia_3            0.00\n",
       "Name: 0, dtype: float64"
      ]
     },
     "execution_count": 99,
     "metadata": {},
     "output_type": "execute_result"
    }
   ],
   "source": [
    "df.iloc[0]"
   ]
  },
  {
   "cell_type": "code",
   "execution_count": 100,
   "id": "c0ca773e",
   "metadata": {},
   "outputs": [],
   "source": [
    "ab = svc_clf.predict(np.array([[0.95, 0.76, -0.26, 0.02\n",
    ",    1.09\n",
    ",   0.00\n",
    ",   1.00\n",
    ",    0.00\n",
    ",   0.00\n",
    ",    0.00\n",
    ",   1.00\n",
    ",  0.00\n",
    ",  1.00\n",
    ",   1.00\n",
    ",   0.00\n",
    ",  0.00\n",
    ",   1.00\n",
    ",  0.00\n",
    ", 1.00\n",
    ",  0.00\n",
    ",  0.00\n",
    ",  1.00\n",
    ",  0.00\n",
    ",  0.00\n",
    ",  0.00\n",
    ",  0.00\n",
    ",  0.00\n",
    ",   1.00\n",
    ",  0.00\n",
    ", 0.00]]))"
   ]
  },
  {
   "cell_type": "code",
   "execution_count": 101,
   "id": "c617d62d",
   "metadata": {},
   "outputs": [
    {
     "data": {
      "text/plain": [
       "1"
      ]
     },
     "execution_count": 101,
     "metadata": {},
     "output_type": "execute_result"
    }
   ],
   "source": [
    "ab[0]"
   ]
  },
  {
   "cell_type": "code",
   "execution_count": 102,
   "id": "a17e335d",
   "metadata": {},
   "outputs": [
    {
     "data": {
      "text/plain": [
       "array([0, 1, 1, 0, 1, 1, 1, 0, 0, 1, 1, 0, 1, 0, 1, 1, 1, 0, 0, 0, 1, 0,\n",
       "       1, 1, 1, 1, 1, 1, 0, 1, 0, 0, 0, 0, 1, 0, 1, 1, 0, 1, 1, 1, 1, 1,\n",
       "       1, 0, 0, 1, 0, 0, 0, 0, 1, 1, 0, 0, 0, 1, 0, 0, 0], dtype=int64)"
      ]
     },
     "execution_count": 102,
     "metadata": {},
     "output_type": "execute_result"
    }
   ],
   "source": [
    "y_predd = rf_clf.predict(X_test)\n",
    "y_predd"
   ]
  },
  {
   "cell_type": "code",
   "execution_count": 103,
   "id": "b7aca740",
   "metadata": {},
   "outputs": [],
   "source": [
    "aa=( 0.29046364,  0.47839125, -0.10172985, -1.16528085, -0.7243226 ,\n",
    "         1.        ,  0.        ,  1.        ,  0.        ,  0.        ,\n",
    "         0.        ,  1.        ,  0.        ,  0.        ,  1.        ,\n",
    "         0.        ,  0.        ,  1.        ,  0.        ,  1.        ,\n",
    "         0.        ,  1.        ,  0.        ,  0.        ,  0.        ,\n",
    "         0.        ,  0.        ,  0.        ,  0.        ,  1. )\n",
    "\n",
    "ab=(0.95, 0.76, -0.26, 0.02,    1.09,   0.00,   1.00,    0.00,   \n",
    "    0.00,    0.00,   1.00,  0.00,  1.00,   1.00,   0.00,  0.00,  \n",
    "    1.00,  0.00, 1.00,  0.00,  0.00,  1.00,  0.00,  0.00,  0.00,\n",
    "    0.00,  0.00,   1.00,  0.00, 0.00)\n",
    "a = np.asarray(ab)\n",
    "a = a.reshape(1,-1)\n",
    "p = rf_clf.predict(a)\n"
   ]
  },
  {
   "cell_type": "code",
   "execution_count": 105,
   "id": "a9548257",
   "metadata": {},
   "outputs": [
    {
     "name": "stdout",
     "output_type": "stream",
     "text": [
      "Person has heart disease\n"
     ]
    }
   ],
   "source": [
    "if (p[0] == 1):\n",
    "    print(\"Person has heart disease\")\n",
    "else:\n",
    "    print(\"Great! the results are normal\")"
   ]
  },
  {
   "cell_type": "markdown",
   "id": "f53d1446",
   "metadata": {},
   "source": [
    "### Conclusion\n",
    "\n",
    "So, In this project, We have used Machine Learning to predict whether a person is suffering from a heart disease or not. \n",
    "Steps which were involved along the project.\n",
    "1. Data Collection.\n",
    "2. Data Preperation(Importing, Exploratory Data Analysis), After importing the data we have used some basic pandas fucntions to get to know more about the data, such as, Head(), tail(), Descibe() -> for statistical analysis, info(), \n",
    "3. Data Exploration, we have used some plots to get an understanding of what our data is telling to us, like count of our target variable, Histogram to check whetehr the variables are normally distributed or not, Unique values present in a variable.\n",
    "4. Data preprocessing, here we have checked whether their are any null vlaues, outliers or unwanted values, fortunaltely we didnt have any, so after that we have created dummy variables using pd.get_dummies(), to transform our categorical variables to numerical(0/1).\n",
    "5. Data Transformation: this will help us to trasform the variables/ used to bring all the variables to the same scale, using StandardScaler()/Normalisation().\n",
    "6. Data Modelling: Before modelling our data, we are splitting our data to trian_test_split(80/20), After which we have used four Machine Learning algorithms, `Logistic Regression`, `Support Vector Classifier`, `Decision Tree Classifier` and `Random Forest Classifier`. I varied parameters across each model to improve their scores.\n",
    "In the end, we can see that both random forest and decision tree has achieved better scores compared to other models."
   ]
  }
 ],
 "metadata": {
  "kernelspec": {
   "display_name": "Python 3 (ipykernel)",
   "language": "python",
   "name": "python3"
  },
  "language_info": {
   "codemirror_mode": {
    "name": "ipython",
    "version": 3
   },
   "file_extension": ".py",
   "mimetype": "text/x-python",
   "name": "python",
   "nbconvert_exporter": "python",
   "pygments_lexer": "ipython3",
   "version": "3.9.7"
  }
 },
 "nbformat": 4,
 "nbformat_minor": 5
}
